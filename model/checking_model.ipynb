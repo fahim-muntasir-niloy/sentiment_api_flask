{
 "cells": [
  {
   "cell_type": "code",
   "execution_count": 2,
   "metadata": {},
   "outputs": [
    {
     "name": "stderr",
     "output_type": "stream",
     "text": [
      "c:\\Users\\niloy\\anaconda3\\envs\\torch_env\\Lib\\site-packages\\tqdm\\auto.py:21: TqdmWarning: IProgress not found. Please update jupyter and ipywidgets. See https://ipywidgets.readthedocs.io/en/stable/user_install.html\n",
      "  from .autonotebook import tqdm as notebook_tqdm\n",
      "c:\\Users\\niloy\\anaconda3\\envs\\torch_env\\Lib\\site-packages\\sklearn\\base.py:318: UserWarning: Trying to unpickle estimator LogisticRegression from version 1.1.2 when using version 1.2.2. This might lead to breaking code or invalid results. Use at your own risk. For more info please refer to:\n",
      "https://scikit-learn.org/stable/model_persistence.html#security-maintainability-limitations\n",
      "  warnings.warn(\n"
     ]
    }
   ],
   "source": [
    "from setfit import SetFitModel\n",
    "import pandas as pd\n",
    "\n",
    "# Loading the model\n",
    "model = SetFitModel.from_pretrained(\"miniLM\")\n",
    "\n",
    "sentiment_dict = {\"positive\":1, \"negative\":2, \"neutral\":0}\n",
    "inverse_dict = {value: key for (key, value) in sentiment_dict.items()}"
   ]
  },
  {
   "cell_type": "code",
   "execution_count": 3,
   "metadata": {},
   "outputs": [
    {
     "data": {
      "text/plain": [
       "(3534, 3)"
      ]
     },
     "execution_count": 3,
     "metadata": {},
     "output_type": "execute_result"
    }
   ],
   "source": [
    "testDS = pd.read_csv(\"./test.csv\")\n",
    "\n",
    "testDS.shape"
   ]
  },
  {
   "cell_type": "code",
   "execution_count": 5,
   "metadata": {},
   "outputs": [
    {
     "data": {
      "text/html": [
       "<div>\n",
       "<style scoped>\n",
       "    .dataframe tbody tr th:only-of-type {\n",
       "        vertical-align: middle;\n",
       "    }\n",
       "\n",
       "    .dataframe tbody tr th {\n",
       "        vertical-align: top;\n",
       "    }\n",
       "\n",
       "    .dataframe thead th {\n",
       "        text-align: right;\n",
       "    }\n",
       "</style>\n",
       "<table border=\"1\" class=\"dataframe\">\n",
       "  <thead>\n",
       "    <tr style=\"text-align: right;\">\n",
       "      <th></th>\n",
       "      <th>text</th>\n",
       "      <th>sentiment</th>\n",
       "    </tr>\n",
       "  </thead>\n",
       "  <tbody>\n",
       "    <tr>\n",
       "      <th>556</th>\n",
       "      <td>Morning Lou, I Have some housework to do then...</td>\n",
       "      <td>neutral</td>\n",
       "    </tr>\n",
       "    <tr>\n",
       "      <th>607</th>\n",
       "      <td>I love you so much.  Just got into my hiding ...</td>\n",
       "      <td>positive</td>\n",
       "    </tr>\n",
       "    <tr>\n",
       "      <th>243</th>\n",
       "      <td>i did i only got 3 stars on the pre wash then...</td>\n",
       "      <td>negative</td>\n",
       "    </tr>\n",
       "    <tr>\n",
       "      <th>997</th>\n",
       "      <td>Gosh I`ve a stinky old headache. Maybe I shou...</td>\n",
       "      <td>negative</td>\n",
       "    </tr>\n",
       "    <tr>\n",
       "      <th>3383</th>\n",
       "      <td>1:30am goin to sleeeeep</td>\n",
       "      <td>neutral</td>\n",
       "    </tr>\n",
       "    <tr>\n",
       "      <th>2681</th>\n",
       "      <td>It`s such a romantic novel!! I cried in the en...</td>\n",
       "      <td>neutral</td>\n",
       "    </tr>\n",
       "    <tr>\n",
       "      <th>14</th>\n",
       "      <td>Its coming out the socket  I feel like my phon...</td>\n",
       "      <td>negative</td>\n",
       "    </tr>\n",
       "    <tr>\n",
       "      <th>2038</th>\n",
       "      <td>Justin Timberlake and Andy Samberg do it again...</td>\n",
       "      <td>positive</td>\n",
       "    </tr>\n",
       "    <tr>\n",
       "      <th>2269</th>\n",
       "      <td>want to see him so badly</td>\n",
       "      <td>negative</td>\n",
       "    </tr>\n",
       "    <tr>\n",
       "      <th>1328</th>\n",
       "      <td>that was delicious! lets have a walk sometime...</td>\n",
       "      <td>neutral</td>\n",
       "    </tr>\n",
       "  </tbody>\n",
       "</table>\n",
       "</div>"
      ],
      "text/plain": [
       "                                                   text sentiment\n",
       "556    Morning Lou, I Have some housework to do then...   neutral\n",
       "607    I love you so much.  Just got into my hiding ...  positive\n",
       "243    i did i only got 3 stars on the pre wash then...  negative\n",
       "997    Gosh I`ve a stinky old headache. Maybe I shou...  negative\n",
       "3383                            1:30am goin to sleeeeep   neutral\n",
       "2681  It`s such a romantic novel!! I cried in the en...   neutral\n",
       "14    Its coming out the socket  I feel like my phon...  negative\n",
       "2038  Justin Timberlake and Andy Samberg do it again...  positive\n",
       "2269                           want to see him so badly  negative\n",
       "1328   that was delicious! lets have a walk sometime...   neutral"
      ]
     },
     "execution_count": 5,
     "metadata": {},
     "output_type": "execute_result"
    }
   ],
   "source": [
    "testSet = testDS[['text','sentiment']].sample(10)\n",
    "testSet"
   ]
  },
  {
   "cell_type": "code",
   "execution_count": 6,
   "metadata": {},
   "outputs": [],
   "source": [
    "testSet = testSet['text'].to_list()"
   ]
  },
  {
   "cell_type": "code",
   "execution_count": 9,
   "metadata": {},
   "outputs": [
    {
     "data": {
      "text/plain": [
       "2"
      ]
     },
     "execution_count": 9,
     "metadata": {},
     "output_type": "execute_result"
    }
   ],
   "source": [
    "model([\"I am so sleepy\"]).item()"
   ]
  },
  {
   "cell_type": "code",
   "execution_count": 109,
   "metadata": {},
   "outputs": [
    {
     "name": "stdout",
     "output_type": "stream",
     "text": [
      "Text : http://twitpic.com/4ja8r - Tell me, how can you not love someone like this?\n",
      "Prediction : neutral \n",
      "\n",
      "Text :   we get so bored with routine.. lol!\n",
      "Prediction : neutral \n",
      "\n",
      "Text :  yup! way to **** early and I`m already at work\n",
      "Prediction : neutral \n",
      "\n",
      "Text : Ill catch you at the very last second\n",
      "Prediction : neutral \n",
      "\n",
      "Text : Im so angry right now .. today im not doind nothing and all my classmates yes  ,i think i will stay with my friend Mr.Computer .. hope not\n",
      "Prediction : negative \n",
      "\n",
      "Text :  thanks so much for the belated #followfriday shout out #payingitforward\n",
      "Prediction : positive \n",
      "\n",
      "Text : While driving u come across aggressive driving behaviour by another driver. U should... Chase the car 2 tell the driver how to drive\n",
      "Prediction : neutral \n",
      "\n",
      "Text : Booo my best friend is leavin for the weekend. What ever will I do without her??\n",
      "Prediction : neutral \n",
      "\n",
      "Text : Whoo, BGT!! I really must multi-task and do my Art work at the same time though, back at College on Monday!!\n",
      "Prediction : neutral \n",
      "\n",
      "Text :  eek can`t wait to see it!! as well as everyone elses. gahh i don`t know what i want  lol\n",
      "Prediction : positive \n",
      "\n"
     ]
    }
   ],
   "source": [
    "prediction = model(testSet)\n",
    "\n",
    "for i in range(len(testSet)):\n",
    "    print(f\"Text : {testSet[i]}\")\n",
    "    print(f\"Prediction : {inverse_dict[prediction[i].item()]} \\n\")\n",
    "    "
   ]
  }
 ],
 "metadata": {
  "kernelspec": {
   "display_name": "torch_env",
   "language": "python",
   "name": "python3"
  },
  "language_info": {
   "codemirror_mode": {
    "name": "ipython",
    "version": 3
   },
   "file_extension": ".py",
   "mimetype": "text/x-python",
   "name": "python",
   "nbconvert_exporter": "python",
   "pygments_lexer": "ipython3",
   "version": "3.11.3"
  },
  "orig_nbformat": 4
 },
 "nbformat": 4,
 "nbformat_minor": 2
}
