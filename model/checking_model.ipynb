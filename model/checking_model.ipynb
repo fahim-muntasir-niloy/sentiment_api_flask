{
 "cells": [
  {
   "cell_type": "code",
   "execution_count": 1,
   "metadata": {},
   "outputs": [
    {
     "name": "stderr",
     "output_type": "stream",
     "text": [
      "c:\\Users\\niloy\\anaconda3\\envs\\torch_env\\Lib\\site-packages\\tqdm\\auto.py:21: TqdmWarning: IProgress not found. Please update jupyter and ipywidgets. See https://ipywidgets.readthedocs.io/en/stable/user_install.html\n",
      "  from .autonotebook import tqdm as notebook_tqdm\n",
      "c:\\Users\\niloy\\anaconda3\\envs\\torch_env\\Lib\\site-packages\\sklearn\\base.py:318: UserWarning: Trying to unpickle estimator LogisticRegression from version 1.1.2 when using version 1.2.2. This might lead to breaking code or invalid results. Use at your own risk. For more info please refer to:\n",
      "https://scikit-learn.org/stable/model_persistence.html#security-maintainability-limitations\n",
      "  warnings.warn(\n"
     ]
    }
   ],
   "source": [
    "from setfit import SetFitModel\n",
    "import pandas as pd\n",
    "\n",
    "# Loading the model\n",
    "model = SetFitModel.from_pretrained(\"miniLM\")\n",
    "\n",
    "sentiment_dict = {\"positive\":1, \"negative\":2, \"neutral\":0}\n",
    "inverse_dict = {value: key for (key, value) in sentiment_dict.items()}\n",
    "\n",
    "import warnings\n",
    "warnings.filterwarnings('ignore')"
   ]
  },
  {
   "cell_type": "code",
   "execution_count": 2,
   "metadata": {},
   "outputs": [
    {
     "data": {
      "text/plain": [
       "(3534, 3)"
      ]
     },
     "execution_count": 2,
     "metadata": {},
     "output_type": "execute_result"
    }
   ],
   "source": [
    "testDS = pd.read_csv(\"./test.csv\")\n",
    "\n",
    "testDS.shape"
   ]
  },
  {
   "cell_type": "code",
   "execution_count": 3,
   "metadata": {},
   "outputs": [
    {
     "data": {
      "text/html": [
       "<div>\n",
       "<style scoped>\n",
       "    .dataframe tbody tr th:only-of-type {\n",
       "        vertical-align: middle;\n",
       "    }\n",
       "\n",
       "    .dataframe tbody tr th {\n",
       "        vertical-align: top;\n",
       "    }\n",
       "\n",
       "    .dataframe thead th {\n",
       "        text-align: right;\n",
       "    }\n",
       "</style>\n",
       "<table border=\"1\" class=\"dataframe\">\n",
       "  <thead>\n",
       "    <tr style=\"text-align: right;\">\n",
       "      <th></th>\n",
       "      <th>text</th>\n",
       "      <th>sentiment</th>\n",
       "    </tr>\n",
       "  </thead>\n",
       "  <tbody>\n",
       "    <tr>\n",
       "      <th>2085</th>\n",
       "      <td>have to wear my glasses today, cos my right ey...</td>\n",
       "      <td>negative</td>\n",
       "    </tr>\n",
       "    <tr>\n",
       "      <th>2248</th>\n",
       "      <td>we shuld do  a dance like that its seriously ...</td>\n",
       "      <td>positive</td>\n",
       "    </tr>\n",
       "    <tr>\n",
       "      <th>217</th>\n",
       "      <td>http://twitpic.com/665jw The racoons ate our b...</td>\n",
       "      <td>negative</td>\n",
       "    </tr>\n",
       "    <tr>\n",
       "      <th>1123</th>\n",
       "      <td>Youuuu`re an aaass  my aaass loooool</td>\n",
       "      <td>negative</td>\n",
       "    </tr>\n",
       "    <tr>\n",
       "      <th>1651</th>\n",
       "      <td>SFTW &amp; pot of tea</td>\n",
       "      <td>neutral</td>\n",
       "    </tr>\n",
       "    <tr>\n",
       "      <th>1704</th>\n",
       "      <td>has anyone else seen this? the  DM notificatio...</td>\n",
       "      <td>negative</td>\n",
       "    </tr>\n",
       "    <tr>\n",
       "      <th>31</th>\n",
       "      <td>resorted to eating Mickey Ds ALONE.</td>\n",
       "      <td>neutral</td>\n",
       "    </tr>\n",
       "    <tr>\n",
       "      <th>2657</th>\n",
       "      <td>yes yes you should! Especially with wine and ...</td>\n",
       "      <td>positive</td>\n",
       "    </tr>\n",
       "    <tr>\n",
       "      <th>250</th>\n",
       "      <td>but i do emily ahahha you scare me, so it wou...</td>\n",
       "      <td>negative</td>\n",
       "    </tr>\n",
       "    <tr>\n",
       "      <th>1493</th>\n",
       "      <td>haha i agree ! i am her test dummy. i just go...</td>\n",
       "      <td>positive</td>\n",
       "    </tr>\n",
       "  </tbody>\n",
       "</table>\n",
       "</div>"
      ],
      "text/plain": [
       "                                                   text sentiment\n",
       "2085  have to wear my glasses today, cos my right ey...  negative\n",
       "2248   we shuld do  a dance like that its seriously ...  positive\n",
       "217   http://twitpic.com/665jw The racoons ate our b...  negative\n",
       "1123               Youuuu`re an aaass  my aaass loooool  negative\n",
       "1651                                  SFTW & pot of tea   neutral\n",
       "1704  has anyone else seen this? the  DM notificatio...  negative\n",
       "31                  resorted to eating Mickey Ds ALONE.   neutral\n",
       "2657   yes yes you should! Especially with wine and ...  positive\n",
       "250    but i do emily ahahha you scare me, so it wou...  negative\n",
       "1493   haha i agree ! i am her test dummy. i just go...  positive"
      ]
     },
     "execution_count": 3,
     "metadata": {},
     "output_type": "execute_result"
    }
   ],
   "source": [
    "testSet = testDS[['text','sentiment']].sample(10)\n",
    "testSet"
   ]
  },
  {
   "cell_type": "code",
   "execution_count": 4,
   "metadata": {},
   "outputs": [],
   "source": [
    "testSet = testSet['text'].to_list()"
   ]
  },
  {
   "cell_type": "code",
   "execution_count": 5,
   "metadata": {},
   "outputs": [
    {
     "data": {
      "text/plain": [
       "2"
      ]
     },
     "execution_count": 5,
     "metadata": {},
     "output_type": "execute_result"
    }
   ],
   "source": [
    "model([\"I am so sleepy\"]).item()"
   ]
  },
  {
   "cell_type": "code",
   "execution_count": 6,
   "metadata": {},
   "outputs": [
    {
     "name": "stdout",
     "output_type": "stream",
     "text": [
      "Text : have to wear my glasses today, cos my right eye is swollen and i don`t know why\n",
      "Prediction : negative \n",
      "\n",
      "Text :  we shuld do  a dance like that its seriously the best thing haha. see yu tomoro.\n",
      "Prediction : neutral \n",
      "\n",
      "Text : http://twitpic.com/665jw The racoons ate our bread!\n",
      "Prediction : neutral \n",
      "\n",
      "Text :  Youuuu`re an aaass  my aaass loooool\n",
      "Prediction : neutral \n",
      "\n",
      "Text : SFTW & pot of tea\n",
      "Prediction : neutral \n",
      "\n",
      "Text : has anyone else seen this? the  DM notification email says 'reply on we web.' i am all for cool accents, but it`s weird online\n",
      "Prediction : neutral \n",
      "\n",
      "Text : resorted to eating Mickey Ds ALONE.\n",
      "Prediction : negative \n",
      "\n",
      "Text :  yes yes you should! Especially with wine and mushrooms!! Ummm I love mushies\n",
      "Prediction : positive \n",
      "\n",
      "Text :  but i do emily ahahha you scare me, so it would work\n",
      "Prediction : neutral \n",
      "\n",
      "Text :  haha i agree ! i am her test dummy. i just go in and say 'do whatever you want' and i always love it.  she is magic!\n",
      "Prediction : positive \n",
      "\n"
     ]
    }
   ],
   "source": [
    "prediction = model(testSet)\n",
    "\n",
    "for i in range(len(testSet)):\n",
    "    print(f\"Text : {testSet[i]}\")\n",
    "    print(f\"Prediction : {inverse_dict[prediction[i].item()]} \\n\")\n",
    "    "
   ]
  }
 ],
 "metadata": {
  "kernelspec": {
   "display_name": "torch_env",
   "language": "python",
   "name": "python3"
  },
  "language_info": {
   "codemirror_mode": {
    "name": "ipython",
    "version": 3
   },
   "file_extension": ".py",
   "mimetype": "text/x-python",
   "name": "python",
   "nbconvert_exporter": "python",
   "pygments_lexer": "ipython3",
   "version": "3.11.3"
  },
  "orig_nbformat": 4
 },
 "nbformat": 4,
 "nbformat_minor": 2
}
