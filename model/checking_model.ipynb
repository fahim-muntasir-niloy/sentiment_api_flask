{
 "cells": [
  {
   "cell_type": "code",
   "execution_count": 21,
   "metadata": {},
   "outputs": [
    {
     "name": "stderr",
     "output_type": "stream",
     "text": [
      "c:\\Users\\niloy\\anaconda3\\envs\\torch_env\\Lib\\site-packages\\sklearn\\base.py:318: UserWarning: Trying to unpickle estimator LogisticRegression from version 1.1.2 when using version 1.2.2. This might lead to breaking code or invalid results. Use at your own risk. For more info please refer to:\n",
      "https://scikit-learn.org/stable/model_persistence.html#security-maintainability-limitations\n",
      "  warnings.warn(\n"
     ]
    }
   ],
   "source": [
    "from setfit import SetFitModel\n",
    "import pandas as pd\n",
    "\n",
    "# Loading the model\n",
    "model = SetFitModel.from_pretrained(\"miniLM\")\n",
    "\n",
    "sentiment_dict = {\"positive\":1, \"negative\":2, \"neutral\":0}\n",
    "inverse_dict = {value: key for (key, value) in sentiment_dict.items()}"
   ]
  },
  {
   "cell_type": "code",
   "execution_count": 22,
   "metadata": {},
   "outputs": [
    {
     "data": {
      "text/plain": [
       "(3534, 3)"
      ]
     },
     "execution_count": 22,
     "metadata": {},
     "output_type": "execute_result"
    }
   ],
   "source": [
    "testDS = pd.read_csv(\"./test.csv\")\n",
    "\n",
    "testDS.shape"
   ]
  },
  {
   "cell_type": "code",
   "execution_count": 52,
   "metadata": {},
   "outputs": [
    {
     "data": {
      "text/html": [
       "<div>\n",
       "<style scoped>\n",
       "    .dataframe tbody tr th:only-of-type {\n",
       "        vertical-align: middle;\n",
       "    }\n",
       "\n",
       "    .dataframe tbody tr th {\n",
       "        vertical-align: top;\n",
       "    }\n",
       "\n",
       "    .dataframe thead th {\n",
       "        text-align: right;\n",
       "    }\n",
       "</style>\n",
       "<table border=\"1\" class=\"dataframe\">\n",
       "  <thead>\n",
       "    <tr style=\"text-align: right;\">\n",
       "      <th></th>\n",
       "      <th>text</th>\n",
       "      <th>sentiment</th>\n",
       "    </tr>\n",
       "  </thead>\n",
       "  <tbody>\n",
       "    <tr>\n",
       "      <th>2623</th>\n",
       "      <td>P.S. Culled a handful, esp followers (spam on...</td>\n",
       "      <td>neutral</td>\n",
       "    </tr>\n",
       "    <tr>\n",
       "      <th>825</th>\n",
       "      <td>We are working</td>\n",
       "      <td>neutral</td>\n",
       "    </tr>\n",
       "    <tr>\n",
       "      <th>1216</th>\n",
       "      <td>I`ve been there.  The only place I have flown...</td>\n",
       "      <td>neutral</td>\n",
       "    </tr>\n",
       "    <tr>\n",
       "      <th>1257</th>\n",
       "      <td>This month was a bad month to try and get an a...</td>\n",
       "      <td>negative</td>\n",
       "    </tr>\n",
       "    <tr>\n",
       "      <th>2332</th>\n",
       "      <td>Following new other #sanctuary fans! See the w...</td>\n",
       "      <td>positive</td>\n",
       "    </tr>\n",
       "    <tr>\n",
       "      <th>1599</th>\n",
       "      <td>thinks castles are fun</td>\n",
       "      <td>positive</td>\n",
       "    </tr>\n",
       "    <tr>\n",
       "      <th>823</th>\n",
       "      <td>looking at the sunshine out of my office window</td>\n",
       "      <td>neutral</td>\n",
       "    </tr>\n",
       "    <tr>\n",
       "      <th>2696</th>\n",
       "      <td>Finally, a beautiful, sunny day in Atlanta. To...</td>\n",
       "      <td>neutral</td>\n",
       "    </tr>\n",
       "    <tr>\n",
       "      <th>1738</th>\n",
       "      <td>Oh my god. I literally drove in rain that was ...</td>\n",
       "      <td>negative</td>\n",
       "    </tr>\n",
       "    <tr>\n",
       "      <th>3461</th>\n",
       "      <td>http://twitpic.com/1aida - snood</td>\n",
       "      <td>neutral</td>\n",
       "    </tr>\n",
       "  </tbody>\n",
       "</table>\n",
       "</div>"
      ],
      "text/plain": [
       "                                                   text sentiment\n",
       "2623   P.S. Culled a handful, esp followers (spam on...   neutral\n",
       "825                                      We are working   neutral\n",
       "1216   I`ve been there.  The only place I have flown...   neutral\n",
       "1257  This month was a bad month to try and get an a...  negative\n",
       "2332  Following new other #sanctuary fans! See the w...  positive\n",
       "1599                             thinks castles are fun  positive\n",
       "823     looking at the sunshine out of my office window   neutral\n",
       "2696  Finally, a beautiful, sunny day in Atlanta. To...   neutral\n",
       "1738  Oh my god. I literally drove in rain that was ...  negative\n",
       "3461                   http://twitpic.com/1aida - snood   neutral"
      ]
     },
     "execution_count": 52,
     "metadata": {},
     "output_type": "execute_result"
    }
   ],
   "source": [
    "testSet = testDS[['text','sentiment']].sample(10)\n",
    "testSet"
   ]
  },
  {
   "cell_type": "code",
   "execution_count": 53,
   "metadata": {},
   "outputs": [],
   "source": [
    "testSet = testSet['text'].to_list()"
   ]
  },
  {
   "cell_type": "code",
   "execution_count": 55,
   "metadata": {},
   "outputs": [
    {
     "name": "stdout",
     "output_type": "stream",
     "text": [
      "Text :  P.S. Culled a handful, esp followers (spam ones with NSFW links that I did NOT click on). You made the cut though\n",
      "Prediction : neutral \n",
      "\n",
      "Text :  We are working\n",
      "Prediction : neutral \n",
      "\n",
      "Text :  I`ve been there.  The only place I have flown out of since moving up north. Really pretty area for flying, but very expensive\n",
      "Prediction : neutral \n",
      "\n",
      "Text : This month was a bad month to try and get an advert together for Kobold Quarterly\n",
      "Prediction : negative \n",
      "\n",
      "Text : Following new other #sanctuary fans! See the wonders of #SanctuarySunday !!!  good to meet you all!\n",
      "Prediction : positive \n",
      "\n",
      "Text : thinks castles are fun\n",
      "Prediction : positive \n",
      "\n",
      "Text : looking at the sunshine out of my office window\n",
      "Prediction : neutral \n",
      "\n",
      "Text : Finally, a beautiful, sunny day in Atlanta. Too bad I`m stuck inside working...\n",
      "Prediction : negative \n",
      "\n",
      "Text : Oh my god. I literally drove in rain that was so hard that i couldn`t see in front of me. I`m shaking\n",
      "Prediction : negative \n",
      "\n",
      "Text :  http://twitpic.com/1aida - snood\n",
      "Prediction : neutral \n",
      "\n"
     ]
    }
   ],
   "source": [
    "prediction = model(testSet)\n",
    "\n",
    "for i in range(len(testSet)):\n",
    "    print(f\"Text : {testSet[i]}\")\n",
    "    print(f\"Prediction : {inverse_dict[prediction[i].item()]} \\n\")\n",
    "    "
   ]
  }
 ],
 "metadata": {
  "kernelspec": {
   "display_name": "torch_env",
   "language": "python",
   "name": "python3"
  },
  "language_info": {
   "codemirror_mode": {
    "name": "ipython",
    "version": 3
   },
   "file_extension": ".py",
   "mimetype": "text/x-python",
   "name": "python",
   "nbconvert_exporter": "python",
   "pygments_lexer": "ipython3",
   "version": "3.11.3"
  },
  "orig_nbformat": 4
 },
 "nbformat": 4,
 "nbformat_minor": 2
}
